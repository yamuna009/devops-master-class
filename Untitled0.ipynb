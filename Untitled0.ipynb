{
  "nbformat": 4,
  "nbformat_minor": 0,
  "metadata": {
    "colab": {
      "provenance": [],
      "authorship_tag": "ABX9TyMrIZ/jVCSlYaOSlbPpWhd+",
      "include_colab_link": true
    },
    "kernelspec": {
      "name": "python3",
      "display_name": "Python 3"
    },
    "language_info": {
      "name": "python"
    }
  },
  "cells": [
    {
      "cell_type": "markdown",
      "metadata": {
        "id": "view-in-github",
        "colab_type": "text"
      },
      "source": [
        "<a href=\"https://colab.research.google.com/github/yamuna009/devops-master-class/blob/master/Untitled0.ipynb\" target=\"_parent\"><img src=\"https://colab.research.google.com/assets/colab-badge.svg\" alt=\"Open In Colab\"/></a>"
      ]
    },
    {
      "cell_type": "code",
      "execution_count": null,
      "metadata": {
        "id": "V1vpjui0SNAm"
      },
      "outputs": [],
      "source": [
        "#Difference between array and List"
      ]
    },
    {
      "cell_type": "code",
      "source": [
        "import numpy as np"
      ],
      "metadata": {
        "id": "YOjTGk0hTZK6"
      },
      "execution_count": null,
      "outputs": []
    },
    {
      "cell_type": "code",
      "source": [
        "l= [1,2,3]"
      ],
      "metadata": {
        "id": "q41fUTBoSduZ"
      },
      "execution_count": null,
      "outputs": []
    },
    {
      "cell_type": "code",
      "source": [
        "Arr = np.array([1,2,3])"
      ],
      "metadata": {
        "id": "DHeh1_pCSZtU"
      },
      "execution_count": null,
      "outputs": []
    },
    {
      "cell_type": "code",
      "source": [
        "l.append(4)  #we can change size of a list mutable\n",
        "print(l)"
      ],
      "metadata": {
        "id": "6hGnu7tfSnSn"
      },
      "execution_count": null,
      "outputs": []
    },
    {
      "cell_type": "code",
      "source": [
        "#Arr.append(5)   #size of an array is fixed we can change it"
      ],
      "metadata": {
        "id": "9okwxd1-ZQun"
      },
      "execution_count": null,
      "outputs": []
    },
    {
      "cell_type": "code",
      "source": [
        "#trying other ways to append"
      ],
      "metadata": {
        "id": "jMF4pXJ6ZmDF"
      },
      "execution_count": null,
      "outputs": []
    },
    {
      "cell_type": "code",
      "source": [
        "l + [5]\n",
        "print(l)"
      ],
      "metadata": {
        "id": "QOAnC29AZOLx"
      },
      "execution_count": null,
      "outputs": []
    },
    {
      "cell_type": "code",
      "source": [
        "print(Arr + np.array([4]))"
      ],
      "metadata": {
        "id": "ZUp65NCMZ2TI"
      },
      "execution_count": null,
      "outputs": []
    },
    {
      "cell_type": "code",
      "source": [
        "print(Arr + np.array([4,5,6]))"
      ],
      "metadata": {
        "id": "S8ntfe2Dalth"
      },
      "execution_count": null,
      "outputs": []
    },
    {
      "cell_type": "code",
      "source": [
        "print(l + l)   # we can double the list"
      ],
      "metadata": {
        "id": "RkS81OWhaMvp"
      },
      "execution_count": null,
      "outputs": []
    },
    {
      "cell_type": "code",
      "source": [
        "print(l*2)   # we can double the list"
      ],
      "metadata": {
        "id": "cCssyP3uaSjA"
      },
      "execution_count": null,
      "outputs": []
    },
    {
      "cell_type": "code",
      "source": [
        "print(Arr + Arr)  # we can't double the array"
      ],
      "metadata": {
        "id": "8BmE9FfEaZp2"
      },
      "execution_count": null,
      "outputs": []
    },
    {
      "cell_type": "code",
      "source": [
        "print( Arr * 2) # we can't double the array"
      ],
      "metadata": {
        "id": "jQwbsqSmajsp"
      },
      "execution_count": null,
      "outputs": []
    },
    {
      "cell_type": "code",
      "source": [
        "l2 = [7,8,9,10]\n",
        "print(l + l2)"
      ],
      "metadata": {
        "id": "ozliusUibQyR"
      },
      "execution_count": null,
      "outputs": []
    },
    {
      "cell_type": "code",
      "source": [
        "l3 =[]\n",
        "for e in l:\n",
        "  l3.append(e+3)\n",
        "print(l3)"
      ],
      "metadata": {
        "id": "eQou3MIDdjc5"
      },
      "execution_count": null,
      "outputs": []
    },
    {
      "cell_type": "code",
      "source": [
        "for e,i in zip(l,l2):\n",
        "  l.append(e+i)\n",
        "print(l)"
      ],
      "metadata": {
        "id": "d3y1xfewbpxo"
      },
      "execution_count": null,
      "outputs": []
    },
    {
      "cell_type": "markdown",
      "source": [
        "First Iteration:\n",
        "e = 1, i = 7\n",
        "e + i = 1 + 7 = 8\n",
        "l.append(8) changes l to [1, 2, 3, 4, 8]"
      ],
      "metadata": {
        "id": "NoXaaeQOc1Ji"
      }
    },
    {
      "cell_type": "markdown",
      "source": [
        "Second Iteration:\n",
        "e = 2, i = 8 --\n",
        "e + i = 2 + 8 = 10 --------\n",
        "l.append(10) changes l to [1, 2, 3, 4, 8, 10]"
      ],
      "metadata": {
        "id": "zXifMgtWdAER"
      }
    },
    {
      "cell_type": "markdown",
      "source": [
        "Third Iteration:\n",
        "e = 3, i = 9   ----\n",
        "e + i = 3 + 9 = 12   ----\n",
        "l.append(12) changes l to [1, 2, 3, 4, 8, 10, 12]"
      ],
      "metadata": {
        "id": "37xR_WAIdSPb"
      }
    },
    {
      "cell_type": "code",
      "source": [
        "print([e+3 for e in l])"
      ],
      "metadata": {
        "id": "dJWVXVGMeL0m"
      },
      "execution_count": null,
      "outputs": []
    },
    {
      "cell_type": "code",
      "source": [
        "#we can't do **\n",
        "#print(l**2)"
      ],
      "metadata": {
        "id": "6S1sh88skHa9"
      },
      "execution_count": null,
      "outputs": []
    },
    {
      "cell_type": "markdown",
      "source": [
        "--------------------------------------------------------------------------\n",
        "TypeError                                 Traceback (most recent call last)\n",
        "<ipython-input-20-40f9e96b629c> in <cell line: 2>()\n",
        "      1 #we can't do **\n",
        "----> 2 print(l**2)\n",
        "\n",
        "TypeError: unsupported operand type(s) for ** or pow(): 'list' and 'int'\n"
      ],
      "metadata": {
        "id": "L1nWuBfdmAkD"
      }
    },
    {
      "cell_type": "code",
      "source": [
        "L4 = []\n",
        "L2 =[1,2,3]\n",
        "for e in L2:\n",
        "  L4 = L2.append(e**2)\n",
        "print(L4)"
      ],
      "metadata": {
        "id": "yWwDcM-qmIoI"
      },
      "execution_count": null,
      "outputs": []
    },
    {
      "cell_type": "code",
      "source": [
        "print(Arr ** 2)  # this is the advantage of numphy"
      ],
      "metadata": {
        "id": "Q9RwMP9pm53u"
      },
      "execution_count": null,
      "outputs": []
    }
  ]
}